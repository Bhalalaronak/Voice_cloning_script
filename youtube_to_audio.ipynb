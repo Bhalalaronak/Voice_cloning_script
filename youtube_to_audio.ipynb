{
  "nbformat": 4,
  "nbformat_minor": 0,
  "metadata": {
    "colab": {
      "provenance": []
    },
    "kernelspec": {
      "name": "python3",
      "display_name": "Python 3"
    },
    "language_info": {
      "name": "python"
    }
  },
  "cells": [
    {
      "cell_type": "code",
      "execution_count": 4,
      "metadata": {
        "id": "_i_-YEHlI66F"
      },
      "outputs": [],
      "source": [
        "!pip install -q yt-dlp\n",
        "!apt-get -qq install -y ffmpeg\n"
      ]
    },
    {
      "cell_type": "code",
      "source": [
        "!pip install -q yt-dlp\n",
        "!apt-get -qq install -y ffmpeg\n",
        "import subprocess\n",
        "from pathlib import Path\n",
        "\n",
        "def download_youtube_audio(youtube_url, output_filename=\"output.wav\"):\n",
        "    temp_file = \"temp_audio.%(ext)s\"\n",
        "\n",
        "    print(\"📥 Downloading audio...\")\n",
        "    subprocess.run([\n",
        "        \"yt-dlp\",\n",
        "        \"-x\", \"--audio-format\", \"wav\",\n",
        "        \"-o\", temp_file,\n",
        "        youtube_url\n",
        "    ], check=True)\n",
        "\n",
        "    # Find the downloaded file\n",
        "    downloaded_file = None\n",
        "    for file in Path(\".\").glob(\"temp_audio.*\"):\n",
        "        downloaded_file = str(file)\n",
        "        break\n",
        "\n",
        "    if not downloaded_file:\n",
        "        raise FileNotFoundError(\"❌ Audio file not found.\")\n",
        "\n",
        "    print(\"🎧 Converting to WAV (16kHz mono)...\")\n",
        "    subprocess.run([\n",
        "        \"ffmpeg\", \"-y\",\n",
        "        \"-i\", downloaded_file,\n",
        "        \"-ar\", \"16000\",\n",
        "        \"-ac\", \"1\",\n",
        "        output_filename\n",
        "    ], check=True)\n",
        "\n",
        "    Path(downloaded_file).unlink()\n",
        "    print(f\"✅ Done! Audio saved as: {output_filename}\")\n",
        "youtube_url = input(\"Enter YouTube video URL: \")\n",
        "download_youtube_audio(youtube_url)\n"
      ],
      "metadata": {
        "colab": {
          "base_uri": "https://localhost:8080/",
          "height": 356
        },
        "id": "sJnPeLCiMEf5",
        "outputId": "bab2125c-449a-4759-8b63-f6d8f58fd6e5"
      },
      "execution_count": 10,
      "outputs": [
        {
          "output_type": "stream",
          "name": "stdout",
          "text": [
            "Enter YouTube video URL: d\n",
            "📥 Downloading audio...\n"
          ]
        },
        {
          "output_type": "error",
          "ename": "CalledProcessError",
          "evalue": "Command '['yt-dlp', '-x', '--audio-format', 'wav', '-o', 'temp_audio.%(ext)s', 'd']' returned non-zero exit status 1.",
          "traceback": [
            "\u001b[0;31m---------------------------------------------------------------------------\u001b[0m",
            "\u001b[0;31mCalledProcessError\u001b[0m                        Traceback (most recent call last)",
            "\u001b[0;32m<ipython-input-10-fdbe9cf8ebbd>\u001b[0m in \u001b[0;36m<cell line: 0>\u001b[0;34m()\u001b[0m\n\u001b[1;32m     36\u001b[0m     \u001b[0mprint\u001b[0m\u001b[0;34m(\u001b[0m\u001b[0;34mf\"✅ Done! Audio saved as: {output_filename}\"\u001b[0m\u001b[0;34m)\u001b[0m\u001b[0;34m\u001b[0m\u001b[0;34m\u001b[0m\u001b[0m\n\u001b[1;32m     37\u001b[0m \u001b[0myoutube_url\u001b[0m \u001b[0;34m=\u001b[0m \u001b[0minput\u001b[0m\u001b[0;34m(\u001b[0m\u001b[0;34m\"Enter YouTube video URL: \"\u001b[0m\u001b[0;34m)\u001b[0m\u001b[0;34m\u001b[0m\u001b[0;34m\u001b[0m\u001b[0m\n\u001b[0;32m---> 38\u001b[0;31m \u001b[0mdownload_youtube_audio\u001b[0m\u001b[0;34m(\u001b[0m\u001b[0myoutube_url\u001b[0m\u001b[0;34m)\u001b[0m\u001b[0;34m\u001b[0m\u001b[0;34m\u001b[0m\u001b[0m\n\u001b[0m",
            "\u001b[0;32m<ipython-input-10-fdbe9cf8ebbd>\u001b[0m in \u001b[0;36mdownload_youtube_audio\u001b[0;34m(youtube_url, output_filename)\u001b[0m\n\u001b[1;32m      8\u001b[0m \u001b[0;34m\u001b[0m\u001b[0m\n\u001b[1;32m      9\u001b[0m     \u001b[0mprint\u001b[0m\u001b[0;34m(\u001b[0m\u001b[0;34m\"📥 Downloading audio...\"\u001b[0m\u001b[0;34m)\u001b[0m\u001b[0;34m\u001b[0m\u001b[0;34m\u001b[0m\u001b[0m\n\u001b[0;32m---> 10\u001b[0;31m     subprocess.run([\n\u001b[0m\u001b[1;32m     11\u001b[0m         \u001b[0;34m\"yt-dlp\"\u001b[0m\u001b[0;34m,\u001b[0m\u001b[0;34m\u001b[0m\u001b[0;34m\u001b[0m\u001b[0m\n\u001b[1;32m     12\u001b[0m         \u001b[0;34m\"-x\"\u001b[0m\u001b[0;34m,\u001b[0m \u001b[0;34m\"--audio-format\"\u001b[0m\u001b[0;34m,\u001b[0m \u001b[0;34m\"wav\"\u001b[0m\u001b[0;34m,\u001b[0m\u001b[0;34m\u001b[0m\u001b[0;34m\u001b[0m\u001b[0m\n",
            "\u001b[0;32m/usr/lib/python3.11/subprocess.py\u001b[0m in \u001b[0;36mrun\u001b[0;34m(input, capture_output, timeout, check, *popenargs, **kwargs)\u001b[0m\n\u001b[1;32m    569\u001b[0m         \u001b[0mretcode\u001b[0m \u001b[0;34m=\u001b[0m \u001b[0mprocess\u001b[0m\u001b[0;34m.\u001b[0m\u001b[0mpoll\u001b[0m\u001b[0;34m(\u001b[0m\u001b[0;34m)\u001b[0m\u001b[0;34m\u001b[0m\u001b[0;34m\u001b[0m\u001b[0m\n\u001b[1;32m    570\u001b[0m         \u001b[0;32mif\u001b[0m \u001b[0mcheck\u001b[0m \u001b[0;32mand\u001b[0m \u001b[0mretcode\u001b[0m\u001b[0;34m:\u001b[0m\u001b[0;34m\u001b[0m\u001b[0;34m\u001b[0m\u001b[0m\n\u001b[0;32m--> 571\u001b[0;31m             raise CalledProcessError(retcode, process.args,\n\u001b[0m\u001b[1;32m    572\u001b[0m                                      output=stdout, stderr=stderr)\n\u001b[1;32m    573\u001b[0m     \u001b[0;32mreturn\u001b[0m \u001b[0mCompletedProcess\u001b[0m\u001b[0;34m(\u001b[0m\u001b[0mprocess\u001b[0m\u001b[0;34m.\u001b[0m\u001b[0margs\u001b[0m\u001b[0;34m,\u001b[0m \u001b[0mretcode\u001b[0m\u001b[0;34m,\u001b[0m \u001b[0mstdout\u001b[0m\u001b[0;34m,\u001b[0m \u001b[0mstderr\u001b[0m\u001b[0;34m)\u001b[0m\u001b[0;34m\u001b[0m\u001b[0;34m\u001b[0m\u001b[0m\n",
            "\u001b[0;31mCalledProcessError\u001b[0m: Command '['yt-dlp', '-x', '--audio-format', 'wav', '-o', 'temp_audio.%(ext)s', 'd']' returned non-zero exit status 1."
          ]
        }
      ]
    },
    {
      "cell_type": "code",
      "execution_count": 12,
      "metadata": {
        "colab": {
          "base_uri": "https://localhost:8080/"
        },
        "id": "tsVTgSazNnRJ",
        "outputId": "dcd9bd61-902d-45d1-d408-6c67769f48ad"
      },
      "outputs": [
        {
          "output_type": "stream",
          "name": "stdout",
          "text": [
            "Enter YouTube video URL: gdsff\n",
            "📥 Downloading audio...\n",
            "❌ Error: Failed to download the video/audio. Please check the URL and try again.\n"
          ]
        }
      ],
      "source": [
        "!pip install -q yt-dlp\n",
        "!apt-get -qq install -y ffmpeg\n",
        "import subprocess\n",
        "from pathlib import Path\n",
        "\n",
        "def download_youtube_audio(youtube_url, output_filename=\"output.wav\"):\n",
        "    temp_file = \"temp_audio.%(ext)s\"\n",
        "\n",
        "    try:\n",
        "        print(\"📥 Downloading audio...\")\n",
        "        subprocess.run([\n",
        "            \"yt-dlp\",\n",
        "            \"-x\", \"--audio-format\", \"wav\",\n",
        "            \"-o\", temp_file,\n",
        "            youtube_url\n",
        "        ], check=True)\n",
        "    except subprocess.CalledProcessError:\n",
        "        print(\"❌ Error: Failed to download the video/audio. Please check the URL and try again.\")\n",
        "        return\n",
        "\n",
        "    # Find the downloaded file\n",
        "    downloaded_file = None\n",
        "    for file in Path(\".\").glob(\"temp_audio.*\"):\n",
        "        downloaded_file = str(file)\n",
        "        break\n",
        "\n",
        "    if not downloaded_file:\n",
        "        print(\"❌ Audio file not found.\")\n",
        "        return\n",
        "\n",
        "    print(\"🎧 Converting to WAV (16kHz mono)...\")\n",
        "    try:\n",
        "        subprocess.run([\n",
        "            \"ffmpeg\", \"-y\",\n",
        "            \"-i\", downloaded_file,\n",
        "            \"-ar\", \"16000\",\n",
        "            \"-ac\", \"1\",\n",
        "            output_filename\n",
        "        ], check=True)\n",
        "    except subprocess.CalledProcessError:\n",
        "        print(\"❌ Error: Failed to convert the audio. Please try again.\")\n",
        "        return\n",
        "\n",
        "    Path(downloaded_file).unlink()  # Clean up temporary file\n",
        "    print(f\"✅ Done! Audio saved as: {output_filename}\")\n",
        "\n",
        "    # If you're using Jupyter or Colab, you can download the file using:\n",
        "    try:\n",
        "        from google.colab import files\n",
        "        files.download(output_filename)  # This is for Colab\n",
        "    except ImportError:\n",
        "        # For local usage, just inform the user where the file is saved\n",
        "        print(f\"✅ The audio has been saved locally as {output_filename}\")\n",
        "\n",
        "# Get user input (for local use)\n",
        "youtube_url = input(\"Enter YouTube video URL: \").strip()\n",
        "if youtube_url:\n",
        "    download_youtube_audio(youtube_url)\n",
        "else:\n",
        "    print(\"⚠️ Please provide a valid YouTube URL.\")\n"
      ]
    }
  ]
}